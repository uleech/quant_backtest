{
 "cells": [
  {
   "cell_type": "code",
   "execution_count": 90,
   "id": "08fc7c9a",
   "metadata": {},
   "outputs": [],
   "source": [
    "import FinanceDataReader as fdr\n",
    "import pandas as pd\n",
    "import datetime\n",
    "from dateutil.relativedelta import relativedelta\n"
   ]
  },
  {
   "cell_type": "code",
   "execution_count": 91,
   "id": "e4035e81",
   "metadata": {},
   "outputs": [],
   "source": [
    "data = pd.read_excel('UNRATE.xls')\n"
   ]
  },
  {
   "cell_type": "code",
   "execution_count": 92,
   "id": "1e8f40f1",
   "metadata": {},
   "outputs": [
    {
     "data": {
      "text/html": [
       "<div>\n",
       "<style scoped>\n",
       "    .dataframe tbody tr th:only-of-type {\n",
       "        vertical-align: middle;\n",
       "    }\n",
       "\n",
       "    .dataframe tbody tr th {\n",
       "        vertical-align: top;\n",
       "    }\n",
       "\n",
       "    .dataframe thead th {\n",
       "        text-align: right;\n",
       "    }\n",
       "</style>\n",
       "<table border=\"1\" class=\"dataframe\">\n",
       "  <thead>\n",
       "    <tr style=\"text-align: right;\">\n",
       "      <th></th>\n",
       "      <th>FRED Graph Observations</th>\n",
       "      <th>Unnamed: 1</th>\n",
       "    </tr>\n",
       "  </thead>\n",
       "  <tbody>\n",
       "    <tr>\n",
       "      <th>0</th>\n",
       "      <td>Federal Reserve Economic Data</td>\n",
       "      <td>NaN</td>\n",
       "    </tr>\n",
       "    <tr>\n",
       "      <th>1</th>\n",
       "      <td>Link: https://fred.stlouisfed.org</td>\n",
       "      <td>NaN</td>\n",
       "    </tr>\n",
       "    <tr>\n",
       "      <th>2</th>\n",
       "      <td>Help: https://fredhelp.stlouisfed.org</td>\n",
       "      <td>NaN</td>\n",
       "    </tr>\n",
       "    <tr>\n",
       "      <th>3</th>\n",
       "      <td>Economic Research Division</td>\n",
       "      <td>NaN</td>\n",
       "    </tr>\n",
       "    <tr>\n",
       "      <th>4</th>\n",
       "      <td>Federal Reserve Bank of St. Louis</td>\n",
       "      <td>NaN</td>\n",
       "    </tr>\n",
       "    <tr>\n",
       "      <th>...</th>\n",
       "      <td>...</td>\n",
       "      <td>...</td>\n",
       "    </tr>\n",
       "    <tr>\n",
       "      <th>894</th>\n",
       "      <td>2021-09-01 00:00:00</td>\n",
       "      <td>4.7</td>\n",
       "    </tr>\n",
       "    <tr>\n",
       "      <th>895</th>\n",
       "      <td>2021-10-01 00:00:00</td>\n",
       "      <td>4.6</td>\n",
       "    </tr>\n",
       "    <tr>\n",
       "      <th>896</th>\n",
       "      <td>2021-11-01 00:00:00</td>\n",
       "      <td>4.2</td>\n",
       "    </tr>\n",
       "    <tr>\n",
       "      <th>897</th>\n",
       "      <td>2021-12-01 00:00:00</td>\n",
       "      <td>3.9</td>\n",
       "    </tr>\n",
       "    <tr>\n",
       "      <th>898</th>\n",
       "      <td>2022-01-01 00:00:00</td>\n",
       "      <td>4</td>\n",
       "    </tr>\n",
       "  </tbody>\n",
       "</table>\n",
       "<p>899 rows × 2 columns</p>\n",
       "</div>"
      ],
      "text/plain": [
       "                   FRED Graph Observations Unnamed: 1\n",
       "0            Federal Reserve Economic Data        NaN\n",
       "1        Link: https://fred.stlouisfed.org        NaN\n",
       "2    Help: https://fredhelp.stlouisfed.org        NaN\n",
       "3               Economic Research Division        NaN\n",
       "4        Federal Reserve Bank of St. Louis        NaN\n",
       "..                                     ...        ...\n",
       "894                    2021-09-01 00:00:00        4.7\n",
       "895                    2021-10-01 00:00:00        4.6\n",
       "896                    2021-11-01 00:00:00        4.2\n",
       "897                    2021-12-01 00:00:00        3.9\n",
       "898                    2022-01-01 00:00:00          4\n",
       "\n",
       "[899 rows x 2 columns]"
      ]
     },
     "execution_count": 92,
     "metadata": {},
     "output_type": "execute_result"
    }
   ],
   "source": [
    "data"
   ]
  },
  {
   "cell_type": "code",
   "execution_count": 93,
   "id": "0f2888fd",
   "metadata": {},
   "outputs": [],
   "source": [
    "data.rename(columns = {'FRED Graph Observations':'Date', 'Unnamed: 1':'Rate'}, inplace=True)"
   ]
  },
  {
   "cell_type": "code",
   "execution_count": 94,
   "id": "7647e9e2",
   "metadata": {},
   "outputs": [],
   "source": [
    "type(data)\n",
    "data = data[10:]\n",
    "data.set_index('Date', inplace=True)\n"
   ]
  },
  {
   "cell_type": "code",
   "execution_count": 95,
   "id": "b894f234",
   "metadata": {},
   "outputs": [
    {
     "name": "stderr",
     "output_type": "stream",
     "text": [
      "C:\\Users\\uleec\\AppData\\Local\\Temp\\ipykernel_13076\\34457314.py:1: SettingWithCopyWarning: \n",
      "A value is trying to be set on a copy of a slice from a DataFrame.\n",
      "Try using .loc[row_indexer,col_indexer] = value instead\n",
      "\n",
      "See the caveats in the documentation: https://pandas.pydata.org/pandas-docs/stable/user_guide/indexing.html#returning-a-view-versus-a-copy\n",
      "  data['Rate'] = pd.to_numeric(data['Rate'], downcast='float')\n"
     ]
    }
   ],
   "source": [
    "data['Rate'] = pd.to_numeric(data['Rate'], downcast='float')\n",
    "type(data.index)\n",
    "data.loc['2022-01-01']\n",
    "mom = data.rolling(window=12).mean()\n"
   ]
  },
  {
   "cell_type": "markdown",
   "id": "8800ba3a",
   "metadata": {},
   "source": [
    "mom"
   ]
  },
  {
   "cell_type": "code",
   "execution_count": 96,
   "id": "a11af30d",
   "metadata": {},
   "outputs": [
    {
     "data": {
      "text/html": [
       "<div>\n",
       "<style scoped>\n",
       "    .dataframe tbody tr th:only-of-type {\n",
       "        vertical-align: middle;\n",
       "    }\n",
       "\n",
       "    .dataframe tbody tr th {\n",
       "        vertical-align: top;\n",
       "    }\n",
       "\n",
       "    .dataframe thead th {\n",
       "        text-align: right;\n",
       "    }\n",
       "</style>\n",
       "<table border=\"1\" class=\"dataframe\">\n",
       "  <thead>\n",
       "    <tr style=\"text-align: right;\">\n",
       "      <th></th>\n",
       "      <th>Rate</th>\n",
       "    </tr>\n",
       "    <tr>\n",
       "      <th>Date</th>\n",
       "      <th></th>\n",
       "    </tr>\n",
       "  </thead>\n",
       "  <tbody>\n",
       "    <tr>\n",
       "      <th>1948-01-01</th>\n",
       "      <td>NaN</td>\n",
       "    </tr>\n",
       "    <tr>\n",
       "      <th>1948-02-01</th>\n",
       "      <td>NaN</td>\n",
       "    </tr>\n",
       "    <tr>\n",
       "      <th>1948-03-01</th>\n",
       "      <td>NaN</td>\n",
       "    </tr>\n",
       "    <tr>\n",
       "      <th>1948-04-01</th>\n",
       "      <td>NaN</td>\n",
       "    </tr>\n",
       "    <tr>\n",
       "      <th>1948-05-01</th>\n",
       "      <td>NaN</td>\n",
       "    </tr>\n",
       "    <tr>\n",
       "      <th>...</th>\n",
       "      <td>...</td>\n",
       "    </tr>\n",
       "    <tr>\n",
       "      <th>2021-09-01</th>\n",
       "      <td>5.991667</td>\n",
       "    </tr>\n",
       "    <tr>\n",
       "      <th>2021-10-01</th>\n",
       "      <td>5.800000</td>\n",
       "    </tr>\n",
       "    <tr>\n",
       "      <th>2021-11-01</th>\n",
       "      <td>5.591667</td>\n",
       "    </tr>\n",
       "    <tr>\n",
       "      <th>2021-12-01</th>\n",
       "      <td>5.358333</td>\n",
       "    </tr>\n",
       "    <tr>\n",
       "      <th>2022-01-01</th>\n",
       "      <td>5.158333</td>\n",
       "    </tr>\n",
       "  </tbody>\n",
       "</table>\n",
       "<p>889 rows × 1 columns</p>\n",
       "</div>"
      ],
      "text/plain": [
       "                Rate\n",
       "Date                \n",
       "1948-01-01       NaN\n",
       "1948-02-01       NaN\n",
       "1948-03-01       NaN\n",
       "1948-04-01       NaN\n",
       "1948-05-01       NaN\n",
       "...              ...\n",
       "2021-09-01  5.991667\n",
       "2021-10-01  5.800000\n",
       "2021-11-01  5.591667\n",
       "2021-12-01  5.358333\n",
       "2022-01-01  5.158333\n",
       "\n",
       "[889 rows x 1 columns]"
      ]
     },
     "execution_count": 96,
     "metadata": {},
     "output_type": "execute_result"
    }
   ],
   "source": [
    "mom"
   ]
  },
  {
   "cell_type": "code",
   "execution_count": 97,
   "id": "98122d2a",
   "metadata": {},
   "outputs": [
    {
     "data": {
      "text/plain": [
       "78"
      ]
     },
     "execution_count": 97,
     "metadata": {},
     "output_type": "execute_result"
    }
   ],
   "source": [
    "def get_data(name, start_date, end_date):\n",
    "    v = fdr.DataReader(name, start_date, end_date).resample('M').last()\n",
    "    v.rename(columns = {'Close':name}, inplace=True)\n",
    "    v.drop(['Open', 'High', 'Low', 'Volume', 'Change'], axis=1, inplace=True)\n",
    "    return v\n",
    "\n",
    "assets = ['IWD', 'GLD', 'IEF', 'QQQ', 'SPY', 'SHY']\n",
    "assets_df = []\n",
    "for n in assets:\n",
    "    assets_df.append(get_data(n, '2000-01-01', '2021-12-31'))\n",
    "assets_df_merged = pd.concat(assets_df, axis=1, join='inner')\n",
    "assets_df_merged\n",
    "len(assets_df_merged)\n",
    "\n",
    "\n"
   ]
  },
  {
   "cell_type": "code",
   "execution_count": 98,
   "id": "01e49493",
   "metadata": {},
   "outputs": [
    {
     "data": {
      "text/plain": [
       "Timestamp('2015-06-30 00:00:00', freq='M')"
      ]
     },
     "execution_count": 98,
     "metadata": {},
     "output_type": "execute_result"
    }
   ],
   "source": [
    "\n",
    "\n",
    "assets_df_merged.iloc[0]\n",
    "assets_df_merged.index[0] - relativedelta(months=1)"
   ]
  },
  {
   "cell_type": "code",
   "execution_count": 82,
   "id": "42244afd",
   "metadata": {},
   "outputs": [
    {
     "data": {
      "text/plain": [
       "DatetimeIndex(['2015-07-31', '2015-08-31', '2015-09-30', '2015-10-31',\n",
       "               '2015-11-30', '2015-12-31', '2016-01-31', '2016-02-29',\n",
       "               '2016-03-31', '2016-04-30', '2016-05-31', '2016-06-30',\n",
       "               '2016-07-31', '2016-08-31', '2016-09-30', '2016-10-31',\n",
       "               '2016-11-30', '2016-12-31', '2017-01-31', '2017-02-28',\n",
       "               '2017-03-31', '2017-04-30', '2017-05-31', '2017-06-30',\n",
       "               '2017-07-31', '2017-08-31', '2017-09-30', '2017-10-31',\n",
       "               '2017-11-30', '2017-12-31', '2018-01-31', '2018-02-28',\n",
       "               '2018-03-31', '2018-04-30', '2018-05-31', '2018-06-30',\n",
       "               '2018-07-31', '2018-08-31', '2018-09-30', '2018-10-31',\n",
       "               '2018-11-30', '2018-12-31', '2019-01-31', '2019-02-28',\n",
       "               '2019-03-31', '2019-04-30', '2019-05-31', '2019-06-30',\n",
       "               '2019-07-31', '2019-08-31', '2019-09-30', '2019-10-31',\n",
       "               '2019-11-30', '2019-12-31', '2020-01-31', '2020-02-29',\n",
       "               '2020-03-31', '2020-04-30', '2020-05-31', '2020-06-30',\n",
       "               '2020-07-31', '2020-08-31', '2020-09-30', '2020-10-31',\n",
       "               '2020-11-30', '2020-12-31', '2021-01-31', '2021-02-28',\n",
       "               '2021-03-31', '2021-04-30', '2021-05-31', '2021-06-30',\n",
       "               '2021-07-31', '2021-08-31', '2021-09-30', '2021-10-31',\n",
       "               '2021-11-30', '2021-12-31'],\n",
       "              dtype='datetime64[ns]', name='Date', freq='M')"
      ]
     },
     "execution_count": 82,
     "metadata": {},
     "output_type": "execute_result"
    }
   ],
   "source": [
    "assets_df_merged.index"
   ]
  },
  {
   "cell_type": "code",
   "execution_count": 61,
   "id": "f5591b5a",
   "metadata": {},
   "outputs": [
    {
     "ename": "TypeError",
     "evalue": "merge() missing 1 required positional argument: 'right'",
     "output_type": "error",
     "traceback": [
      "\u001b[1;31m---------------------------------------------------------------------------\u001b[0m",
      "\u001b[1;31mTypeError\u001b[0m                                 Traceback (most recent call last)",
      "\u001b[1;32m~\\AppData\\Local\\Temp\\ipykernel_13076\\2846979050.py\u001b[0m in \u001b[0;36m<module>\u001b[1;34m\u001b[0m\n\u001b[1;32m----> 1\u001b[1;33m \u001b[0mv\u001b[0m \u001b[1;33m=\u001b[0m \u001b[0mpd\u001b[0m\u001b[1;33m.\u001b[0m\u001b[0mmerge\u001b[0m\u001b[1;33m(\u001b[0m\u001b[1;33m[\u001b[0m\u001b[0miwd\u001b[0m\u001b[1;33m,\u001b[0m \u001b[0mgld\u001b[0m\u001b[1;33m,\u001b[0m \u001b[0mqqq\u001b[0m\u001b[1;33m,\u001b[0m \u001b[0mief\u001b[0m\u001b[1;33m]\u001b[0m\u001b[1;33m)\u001b[0m\u001b[1;33m\u001b[0m\u001b[1;33m\u001b[0m\u001b[0m\n\u001b[0m",
      "\u001b[1;31mTypeError\u001b[0m: merge() missing 1 required positional argument: 'right'"
     ]
    }
   ],
   "source": [
    "v = pd.concat([])"
   ]
  },
  {
   "cell_type": "code",
   "execution_count": null,
   "id": "c22da42b",
   "metadata": {},
   "outputs": [],
   "source": []
  }
 ],
 "metadata": {
  "kernelspec": {
   "display_name": "Python 3 (ipykernel)",
   "language": "python",
   "name": "python3"
  },
  "language_info": {
   "codemirror_mode": {
    "name": "ipython",
    "version": 3
   },
   "file_extension": ".py",
   "mimetype": "text/x-python",
   "name": "python",
   "nbconvert_exporter": "python",
   "pygments_lexer": "ipython3",
   "version": "3.9.4"
  }
 },
 "nbformat": 4,
 "nbformat_minor": 5
}
